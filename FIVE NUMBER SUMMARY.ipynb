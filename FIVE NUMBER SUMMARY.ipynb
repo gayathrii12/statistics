{
 "cells": [
  {
   "cell_type": "code",
   "execution_count": 1,
   "id": "f13472df",
   "metadata": {},
   "outputs": [],
   "source": [
    "import numpy as np\n",
    "from numpy import percentile\n",
    "from numpy.random import rand"
   ]
  },
  {
   "cell_type": "code",
   "execution_count": 2,
   "id": "46fa4318",
   "metadata": {},
   "outputs": [],
   "source": [
    "#generating sample data set of 1000 numbers\n",
    "data=rand(1000)"
   ]
  },
  {
   "cell_type": "code",
   "execution_count": 3,
   "id": "6c729991",
   "metadata": {},
   "outputs": [],
   "source": [
    "#calculate quartiles\n",
    "quartiles = percentile(data,[25,50,75])"
   ]
  },
  {
   "cell_type": "code",
   "execution_count": 4,
   "id": "c0849707",
   "metadata": {},
   "outputs": [],
   "source": [
    "#calculating min and max\n",
    "data_min,data_max=data.min(),data.max()"
   ]
  },
  {
   "cell_type": "code",
   "execution_count": 5,
   "id": "4b98f9f0",
   "metadata": {},
   "outputs": [
    {
     "name": "stdout",
     "output_type": "stream",
     "text": [
      "min:0.001\n",
      "Q1:0.245\n",
      "Q1:0.486\n",
      "Q1:0.732\n",
      "max:1.000\n"
     ]
    }
   ],
   "source": [
    "#print summary\n",
    "print(\"min:%.3f\" % data_min)\n",
    "print(\"Q1:%.3f\" % quartiles[0])\n",
    "print(\"Q1:%.3f\" % quartiles[1])\n",
    "print(\"Q1:%.3f\" % quartiles[2])\n",
    "print(\"max:%.3f\" % data_max)"
   ]
  },
  {
   "cell_type": "markdown",
   "id": "07df086c",
   "metadata": {},
   "source": [
    "The result shows very similar numbers to the respective quartiles. 0.24 for the 25th percentile, .50 for the 50th percentile and .75 for the 75th percentile."
   ]
  },
  {
   "cell_type": "code",
   "execution_count": null,
   "id": "63fafc5b",
   "metadata": {},
   "outputs": [],
   "source": []
  }
 ],
 "metadata": {
  "kernelspec": {
   "display_name": "Python 3 (ipykernel)",
   "language": "python",
   "name": "python3"
  },
  "language_info": {
   "codemirror_mode": {
    "name": "ipython",
    "version": 3
   },
   "file_extension": ".py",
   "mimetype": "text/x-python",
   "name": "python",
   "nbconvert_exporter": "python",
   "pygments_lexer": "ipython3",
   "version": "3.11.3"
  }
 },
 "nbformat": 4,
 "nbformat_minor": 5
}
