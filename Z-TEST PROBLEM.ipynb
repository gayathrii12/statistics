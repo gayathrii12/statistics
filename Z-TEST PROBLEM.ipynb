{
 "cells": [
  {
   "cell_type": "markdown",
   "id": "08057978",
   "metadata": {},
   "source": [
    "# Z TEST\n",
    "Suppose the IQ in a certain population is normally distributed witha mean of 100 and standarf deviation =15. A researcher wants to know if a new drug affects the IQ levels, so he recruits 20 patients to try it and record their IQ levels. the following code shows how to perform a one sample z test in python to determine if the new drug causes a significant differences in IQ levels"
   ]
  },
  {
   "cell_type": "code",
   "execution_count": 1,
   "id": "3873f1c4",
   "metadata": {},
   "outputs": [
    {
     "data": {
      "text/plain": [
       "(1.5976240527147705, 0.1101266701438426)"
      ]
     },
     "execution_count": 1,
     "metadata": {},
     "output_type": "execute_result"
    }
   ],
   "source": [
    "from statsmodels.stats.weightstats import ztest as ztest\n",
    "\n",
    "#enter IQ levels for 20 patients after medication is applied\n",
    "data=[88,92,94,94,96,97,97,97,99,99,105,109,109,109,110,112,112,113,114,115]\n",
    "\n",
    "ztest(data,value=100)"
   ]
  },
  {
   "cell_type": "markdown",
   "id": "7954556e",
   "metadata": {},
   "source": [
    "Therefore we reject this null hypothesis"
   ]
  },
  {
   "cell_type": "markdown",
   "id": "2225882b",
   "metadata": {},
   "source": [
    "# T test"
   ]
  },
  {
   "cell_type": "code",
   "execution_count": 3,
   "id": "30587d05",
   "metadata": {},
   "outputs": [],
   "source": [
    "ages = [10,20,35,50,28,40,55,18,16,55,30,25,43,18,30,28,14,24,16,17,32,35,26,27,65,18,43,23,21,20,19,70]"
   ]
  },
  {
   "cell_type": "code",
   "execution_count": 4,
   "id": "bb583de0",
   "metadata": {},
   "outputs": [
    {
     "data": {
      "text/plain": [
       "30.34375"
      ]
     },
     "execution_count": 4,
     "metadata": {},
     "output_type": "execute_result"
    }
   ],
   "source": [
    "import numpy as np\n",
    "ages_mean=np.mean(ages)\n",
    "ages_mean"
   ]
  },
  {
   "cell_type": "code",
   "execution_count": 5,
   "id": "5a2527c8",
   "metadata": {},
   "outputs": [
    {
     "data": {
      "text/plain": [
       "array([27, 10, 55, 43, 40, 65, 35, 28, 18, 40])"
      ]
     },
     "execution_count": 5,
     "metadata": {},
     "output_type": "execute_result"
    }
   ],
   "source": [
    "#take sample of ages above and verify whether we are coming to mean mentionede above or not using t-test,\n",
    "#since we dont know population standard deviation\n",
    "sample_size = 10    #assumption \n",
    "age_sample = np.random.choice(ages,sample_size)\n",
    "age_sample\n"
   ]
  },
  {
   "cell_type": "code",
   "execution_count": 6,
   "id": "a6cc06bf",
   "metadata": {},
   "outputs": [
    {
     "data": {
      "text/plain": [
       "36.1"
      ]
     },
     "execution_count": 6,
     "metadata": {},
     "output_type": "execute_result"
    }
   ],
   "source": [
    "np.mean(age_sample)"
   ]
  },
  {
   "cell_type": "code",
   "execution_count": 7,
   "id": "f4249b6d",
   "metadata": {},
   "outputs": [],
   "source": [
    "#now based on sample age we shd see if the result is near to mean age\n",
    "from scipy.stats import ttest_1samp   #it means one sample of t-test"
   ]
  },
  {
   "cell_type": "code",
   "execution_count": 8,
   "id": "32fcd43a",
   "metadata": {},
   "outputs": [
    {
     "data": {
      "text/plain": [
       "TtestResult(statistic=1.17421134543567, pvalue=0.2704439068118906, df=9)"
      ]
     },
     "execution_count": 8,
     "metadata": {},
     "output_type": "execute_result"
    }
   ],
   "source": [
    "ttest_1samp(age_sample,30)   #so it means we are comparing age sample wrt 30 which is mean"
   ]
  },
  {
   "cell_type": "code",
   "execution_count": null,
   "id": "137708ca",
   "metadata": {},
   "outputs": [],
   "source": [
    "#hence we aceept since p > alpha (0.05)"
   ]
  }
 ],
 "metadata": {
  "kernelspec": {
   "display_name": "Python 3 (ipykernel)",
   "language": "python",
   "name": "python3"
  },
  "language_info": {
   "codemirror_mode": {
    "name": "ipython",
    "version": 3
   },
   "file_extension": ".py",
   "mimetype": "text/x-python",
   "name": "python",
   "nbconvert_exporter": "python",
   "pygments_lexer": "ipython3",
   "version": "3.11.3"
  }
 },
 "nbformat": 4,
 "nbformat_minor": 5
}
